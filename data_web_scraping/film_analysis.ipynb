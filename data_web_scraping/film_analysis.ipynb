{
 "cells": [
  {
   "cell_type": "code",
   "execution_count": 13,
   "metadata": {},
   "outputs": [
    {
     "name": "stdout",
     "output_type": "stream",
     "text": [
      "Index(['film_id', 'imdb_id', 'title', 'duration_minutes', 'year_released',\n",
      "       'genres', 'popularity', 'average_rating', 'production_cost',\n",
      "       'box_office_revenue', 'actor1', 'actor2', 'actor3', 'director',\n",
      "       'writer', 'production_company'],\n",
      "      dtype='object')\n"
     ]
    }
   ],
   "source": [
    "import pandas as pd\n",
    "\n",
    "# Fájl beolvasása\n",
    "file_path = r\"C:\\Users\\rotar\\OneDrive\\Asztali gép\\Cubix_Data_Challenge\\SQL\\MovieMasters\\movie_master_clean.csv\"\n",
    "  # Adj meg helyes elérési utat\n",
    "df = pd.read_csv(file_path, sep=';')\n",
    "\n",
    "# Oszlopnevek megtekintése\n",
    "print(df.columns)\n"
   ]
  },
  {
   "cell_type": "code",
   "execution_count": 22,
   "metadata": {},
   "outputs": [
    {
     "name": "stdout",
     "output_type": "stream",
     "text": [
      "Top 3 író:\n",
      "              average_rating  popularity\n",
      "writer                                  \n",
      "Graham Moore             8.0    8.185185\n",
      "Jun Lana                 8.0    8.185185\n",
      "Luke Davies              8.0    8.185185\n",
      "\n",
      "Top 3 rendező:\n",
      "                  average_rating  popularity\n",
      "director                                    \n",
      "Garth Davis                  8.0    8.185185\n",
      "Jun Lana                     8.0    8.185185\n",
      "Mahesh Manjrekar             8.0    8.185185\n",
      "\n",
      "Top 3 főszereplő:\n",
      "                    average_rating  popularity\n",
      "actor                                         \n",
      "Bharat Jadhav                  8.0    8.185185\n",
      "Eddie Garcia                   8.0    8.185185\n",
      "Ferdia Walsh-Peelo             8.0    8.185185\n",
      "Files saved successfully.\n"
     ]
    },
    {
     "name": "stderr",
     "output_type": "stream",
     "text": [
      "C:\\Users\\rotar\\AppData\\Local\\Temp\\ipykernel_5088\\112693337.py:17: FutureWarning: A value is trying to be set on a copy of a DataFrame or Series through chained assignment using an inplace method.\n",
      "The behavior will change in pandas 3.0. This inplace method will never work because the intermediate object on which we are setting values always behaves as a copy.\n",
      "\n",
      "For example, when doing 'df[col].method(value, inplace=True)', try using 'df.method({col: value}, inplace=True)' or df[col] = df[col].method(value) instead, to perform the operation inplace on the original object.\n",
      "\n",
      "\n",
      "  df[\"average_rating\"].fillna(df[\"average_rating\"].mean(), inplace=True)\n",
      "C:\\Users\\rotar\\AppData\\Local\\Temp\\ipykernel_5088\\112693337.py:18: FutureWarning: A value is trying to be set on a copy of a DataFrame or Series through chained assignment using an inplace method.\n",
      "The behavior will change in pandas 3.0. This inplace method will never work because the intermediate object on which we are setting values always behaves as a copy.\n",
      "\n",
      "For example, when doing 'df[col].method(value, inplace=True)', try using 'df.method({col: value}, inplace=True)' or df[col] = df[col].method(value) instead, to perform the operation inplace on the original object.\n",
      "\n",
      "\n",
      "  df[\"popularity\"].fillna(df[\"popularity\"].mean(), inplace=True)\n"
     ]
    }
   ],
   "source": [
    "import pandas as pd\n",
    "\n",
    "# CSV betöltése\n",
    "file_path = r\"C:\\Users\\rotar\\OneDrive\\Asztali gép\\Cubix_Data_Challenge\\SQL\\MovieMasters\\movie_master_clean.csv\"\n",
    "\n",
    "# Frissítsd az elérési útvonalat, ha szükséges\n",
    "df = pd.read_csv(file_path, sep=';')\n",
    "\n",
    "# Ellenőrzés: vannak-e hiányzó értékek\n",
    "df = df.dropna(subset=[\"writer\", \"director\", \"actor1\", \"actor2\", \"actor3\", \"average_rating\", \"popularity\"])\n",
    "\n",
    "# Oszlopok számértékké alakítása\n",
    "df[\"average_rating\"] = pd.to_numeric(df[\"average_rating\"], errors=\"coerce\")\n",
    "df[\"popularity\"] = pd.to_numeric(df[\"popularity\"], errors=\"coerce\")\n",
    "\n",
    "# Nem numerikus értékek (pl. hibás adatok) átalakítása NaN-ra\n",
    "df[\"average_rating\"].fillna(df[\"average_rating\"].mean(), inplace=True)\n",
    "df[\"popularity\"].fillna(df[\"popularity\"].mean(), inplace=True)\n",
    "\n",
    "# Oszlopok szétválasztása és kibővítése\n",
    "def explode_column(df, column_name):\n",
    "    return df.assign(**{column_name: df[column_name].str.split(\", \")}).explode(column_name)\n",
    "\n",
    "# Írók\n",
    "writers_df = explode_column(df[[\"writer\", \"average_rating\", \"popularity\"]], \"writer\")\n",
    "top_writers = writers_df.groupby(\"writer\").agg({\"average_rating\": \"mean\", \"popularity\": \"mean\"}).sort_values(by=[\"average_rating\", \"popularity\"], ascending=False).head(3)\n",
    "\n",
    "# Rendezők\n",
    "directors_df = explode_column(df[[\"director\", \"average_rating\", \"popularity\"]], \"director\")\n",
    "top_directors = directors_df.groupby(\"director\").agg({\"average_rating\": \"mean\", \"popularity\": \"mean\"}).sort_values(by=[\"average_rating\", \"popularity\"], ascending=False).head(3)\n",
    "\n",
    "# Színészek: A három oszlopot először külön-külön kezeljük, majd összefűzzük őket\n",
    "actor1_df = explode_column(df[[\"actor1\", \"average_rating\", \"popularity\"]], \"actor1\")\n",
    "actor2_df = explode_column(df[[\"actor2\", \"average_rating\", \"popularity\"]], \"actor2\")\n",
    "actor3_df = explode_column(df[[\"actor3\", \"average_rating\", \"popularity\"]], \"actor3\")\n",
    "\n",
    "# Az összes színész egyesítése\n",
    "actors_combined_df = pd.concat([actor1_df[[\"actor1\", \"average_rating\", \"popularity\"]],\n",
    "                                actor2_df[[\"actor2\", \"average_rating\", \"popularity\"]],\n",
    "                                actor3_df[[\"actor3\", \"average_rating\", \"popularity\"]]], ignore_index=True)\n",
    "\n",
    "# Színészek csoportosítása\n",
    "actors_combined_df = actors_combined_df.rename(columns={\"actor1\": \"actor\"}).fillna(\"\")\n",
    "top_actors = actors_combined_df.groupby(\"actor\").agg({\"average_rating\": \"mean\", \"popularity\": \"mean\"}).sort_values(by=[\"average_rating\", \"popularity\"], ascending=False).head(3)\n",
    "\n",
    "# Eredmények kiírása\n",
    "print(\"Top 3 író:\")\n",
    "print(top_writers)\n",
    "\n",
    "print(\"\\nTop 3 rendező:\")\n",
    "print(top_directors)\n",
    "\n",
    "print(\"\\nTop 3 főszereplő:\")\n",
    "print(top_actors)\n",
    "\n",
    "# Save updated files\n",
    "df.to_csv(\"movies_updated_cleaned_top3.csv\", index=False)\n",
    "\n",
    "print(\"Files saved successfully.\")"
   ]
  }
 ],
 "metadata": {
  "kernelspec": {
   "display_name": "venv",
   "language": "python",
   "name": "python3"
  },
  "language_info": {
   "codemirror_mode": {
    "name": "ipython",
    "version": 3
   },
   "file_extension": ".py",
   "mimetype": "text/x-python",
   "name": "python",
   "nbconvert_exporter": "python",
   "pygments_lexer": "ipython3",
   "version": "3.12.9"
  }
 },
 "nbformat": 4,
 "nbformat_minor": 2
}
